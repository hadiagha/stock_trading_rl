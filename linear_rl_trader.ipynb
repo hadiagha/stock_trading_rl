{
 "cells": [
  {
   "cell_type": "code",
   "execution_count": 2,
   "metadata": {},
   "outputs": [],
   "source": [
    "import numpy as np\n",
    "import pandas as pd\n",
    "import matplotlib.pyplot as plt\n",
    "\n",
    "from datetime import datetime\n",
    "import itertools\n",
    "import argparse\n",
    "import re\n",
    "import os\n",
    "import pickle\n",
    "\n",
    "from sklearn.preprocessing import StandardScaler\n",
    "import yfinance as yf"
   ]
  },
  {
   "cell_type": "code",
   "execution_count": 49,
   "metadata": {},
   "outputs": [],
   "source": [
    "#Get data from api\n",
    "def get_data(prd):\n",
    "    stock_list = ['AAPL','MSI','SBUX']\n",
    "    stock_data = pd.DataFrame()\n",
    "    for sl in stock_list:\n",
    "        data = yf.Ticker(sl).history(period=prd)\n",
    "        data['stock'] = sl\n",
    "        data = data.reset_index()\n",
    "        data = data.loc[:,['Date','Close','stock']]\n",
    "        stock_data = pd.concat([data,stock_data])\n",
    "\n",
    "    stock_data=stock_data.pivot(index= 'Date',columns='stock', values='Close')\n",
    "    stock_data = stock_data.reset_index()\n",
    "\n",
    "    stock_data = stock_data[['AAPL','MSI','SBUX']]\n",
    "    stock_data = stock_data.reset_index(drop=True)\n",
    "\n",
    "    stock_data.to_csv('stock_data.csv',index=False)\n",
    "\n",
    "#write data\n",
    "get_data(prd = '5y')"
   ]
  },
  {
   "cell_type": "code",
   "execution_count": 50,
   "metadata": {},
   "outputs": [
    {
     "data": {
      "text/html": [
       "<div>\n",
       "<style scoped>\n",
       "    .dataframe tbody tr th:only-of-type {\n",
       "        vertical-align: middle;\n",
       "    }\n",
       "\n",
       "    .dataframe tbody tr th {\n",
       "        vertical-align: top;\n",
       "    }\n",
       "\n",
       "    .dataframe thead th {\n",
       "        text-align: right;\n",
       "    }\n",
       "</style>\n",
       "<table border=\"1\" class=\"dataframe\">\n",
       "  <thead>\n",
       "    <tr style=\"text-align: right;\">\n",
       "      <th></th>\n",
       "      <th>AAPL</th>\n",
       "      <th>MSI</th>\n",
       "      <th>SBUX</th>\n",
       "    </tr>\n",
       "  </thead>\n",
       "  <tbody>\n",
       "    <tr>\n",
       "      <th>0</th>\n",
       "      <td>33.253315</td>\n",
       "      <td>77.284012</td>\n",
       "      <td>51.924530</td>\n",
       "    </tr>\n",
       "    <tr>\n",
       "      <th>1</th>\n",
       "      <td>33.942547</td>\n",
       "      <td>77.284012</td>\n",
       "      <td>52.033409</td>\n",
       "    </tr>\n",
       "    <tr>\n",
       "      <th>2</th>\n",
       "      <td>34.018085</td>\n",
       "      <td>77.403610</td>\n",
       "      <td>52.205799</td>\n",
       "    </tr>\n",
       "    <tr>\n",
       "      <th>3</th>\n",
       "      <td>33.973232</td>\n",
       "      <td>78.084450</td>\n",
       "      <td>52.768318</td>\n",
       "    </tr>\n",
       "    <tr>\n",
       "      <th>4</th>\n",
       "      <td>33.909500</td>\n",
       "      <td>79.326515</td>\n",
       "      <td>52.976994</td>\n",
       "    </tr>\n",
       "  </tbody>\n",
       "</table>\n",
       "</div>"
      ],
      "text/plain": [
       "        AAPL        MSI       SBUX\n",
       "0  33.253315  77.284012  51.924530\n",
       "1  33.942547  77.284012  52.033409\n",
       "2  34.018085  77.403610  52.205799\n",
       "3  33.973232  78.084450  52.768318\n",
       "4  33.909500  79.326515  52.976994"
      ]
     },
     "execution_count": 50,
     "metadata": {},
     "output_type": "execute_result"
    }
   ],
   "source": [
    "#Get data from csv\n",
    "stock_data = pd.read_csv('stock_data.csv')\n",
    "stock_data.head()"
   ]
  },
  {
   "cell_type": "code",
   "execution_count": 40,
   "metadata": {},
   "outputs": [],
   "source": [
    "def get_scaler(env):\n",
    "    states = []\n",
    "    for _ in range(env.n_step):\n",
    "        action = np.random.choice(env.action_space)\n",
    "        state,reward,done,info = env.step(action)\n",
    "        states.append(state)\n",
    "        if done:\n",
    "            break\n",
    "    scaler = StandardScaler()\n",
    "    scaler.fit(states)\n",
    "    return scaler"
   ]
  },
  {
   "cell_type": "code",
   "execution_count": null,
   "metadata": {},
   "outputs": [],
   "source": [
    "def maybe_make_dir(directory):\n",
    "    if not os.path.exists(directory):\n",
    "        os.makedirs(directory)"
   ]
  },
  {
   "cell_type": "code",
   "execution_count": null,
   "metadata": {},
   "outputs": [],
   "source": []
  },
  {
   "cell_type": "code",
   "execution_count": null,
   "metadata": {},
   "outputs": [],
   "source": []
  }
 ],
 "metadata": {
  "interpreter": {
   "hash": "66f0939a931b3e39e3b6e9def8a6be818ff89cf08fc9ac29bf4fb637d2bfd201"
  },
  "kernelspec": {
   "display_name": "Python 3.9.7 ('base')",
   "language": "python",
   "name": "python3"
  },
  "language_info": {
   "codemirror_mode": {
    "name": "ipython",
    "version": 3
   },
   "file_extension": ".py",
   "mimetype": "text/x-python",
   "name": "python",
   "nbconvert_exporter": "python",
   "pygments_lexer": "ipython3",
   "version": "3.9.7"
  },
  "orig_nbformat": 4
 },
 "nbformat": 4,
 "nbformat_minor": 2
}
